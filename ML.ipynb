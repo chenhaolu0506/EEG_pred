{
  "cells": [
    {
      "cell_type": "markdown",
      "source": [
        "CLPS 1291 Final Project"
      ],
      "metadata": {
        "id": "ImO5mvSlfPNO"
      },
      "id": "ImO5mvSlfPNO"
    },
    {
      "cell_type": "code",
      "execution_count": null,
      "id": "dd7f03a0",
      "metadata": {
        "id": "dd7f03a0"
      },
      "outputs": [],
      "source": [
        "import pandas as pd\n",
        "import numpy as np\n",
        "import collections\n",
        "from sklearn.preprocessing import StandardScaler, MinMaxScaler, normalize, OneHotEncoder\n",
        "import os\n",
        "from tqdm import tqdm\n",
        "import torch\n",
        "import torch.nn as nn\n",
        "import torch.optim as optim\n",
        "from sklearn.svm import SVC  # For Support Vector Machine\n",
        "from sklearn.neural_network import MLPClassifier  # For Multi-Layer Perceptron\n",
        "from sklearn.model_selection import train_test_split # For splitting data into training and testing sets\n",
        "from sklearn.metrics import accuracy_score, classification_report # For evaluating"
      ]
    },
    {
      "cell_type": "code",
      "source": [
        "from google.colab import drive\n",
        "drive.mount('/content/drive')"
      ],
      "metadata": {
        "colab": {
          "base_uri": "https://localhost:8080/"
        },
        "id": "DQ3dry6eA4Gm",
        "outputId": "37f30b62-fd6c-4499-c8a8-afd9f7309252"
      },
      "id": "DQ3dry6eA4Gm",
      "execution_count": null,
      "outputs": [
        {
          "output_type": "stream",
          "name": "stdout",
          "text": [
            "Mounted at /content/drive\n"
          ]
        }
      ]
    },
    {
      "cell_type": "code",
      "source": [
        "if torch.cuda.is_available():\n",
        "  device = \"cuda\"\n",
        "else:\n",
        "  device = \"cpu\"\n",
        "print(f\"Using {device} device\")"
      ],
      "metadata": {
        "colab": {
          "base_uri": "https://localhost:8080/"
        },
        "id": "4to5S0vQChyN",
        "outputId": "aafc02b3-573e-450c-ad1f-09467bea438c"
      },
      "id": "4to5S0vQChyN",
      "execution_count": null,
      "outputs": [
        {
          "output_type": "stream",
          "name": "stdout",
          "text": [
            "Using cuda device\n"
          ]
        }
      ]
    },
    {
      "cell_type": "code",
      "execution_count": null,
      "id": "6a81f72a",
      "metadata": {
        "id": "6a81f72a"
      },
      "outputs": [],
      "source": [
        "base_path = \"/content/drive/MyDrive/EEG/\"\n",
        "columns = pd.read_csv(base_path + \"columnLabels.csv\").columns"
      ]
    },
    {
      "cell_type": "code",
      "execution_count": null,
      "id": "7950c694",
      "metadata": {
        "colab": {
          "base_uri": "https://localhost:8080/"
        },
        "id": "7950c694",
        "outputId": "9b2752bc-0f8b-4e19-c0b0-3cbec6f904b7"
      },
      "outputs": [
        {
          "output_type": "execute_result",
          "data": {
            "text/plain": [
              "Index(['subject', 'trial', 'condition', 'sample', 'Fp1', 'AF7', 'AF3', 'F1',\n",
              "       'F3', 'F5', 'F7', 'FT7', 'FC5', 'FC3', 'FC1', 'C1', 'C3', 'C5', 'T7',\n",
              "       'TP7', 'CP5', 'CP3', 'CP1', 'P1', 'P3', 'P5', 'P7', 'P9', 'PO7', 'PO3',\n",
              "       'O1', 'Iz', 'Oz', 'POz', 'Pz', 'CPz', 'Fpz', 'Fp2', 'AF8', 'AF4', 'AFz',\n",
              "       'Fz', 'F2', 'F4', 'F6', 'F8', 'FT8', 'FC6', 'FC4', 'FC2', 'FCz', 'Cz',\n",
              "       'C2', 'C4', 'C6', 'T8', 'TP8', 'CP6', 'CP4', 'CP2', 'P2', 'P4', 'P6',\n",
              "       'P8', 'P10', 'PO8', 'PO4', 'O2', 'VEOa', 'VEOb', 'HEOL', 'HEOR', 'Nose',\n",
              "       'TP10'],\n",
              "      dtype='object')"
            ]
          },
          "metadata": {},
          "execution_count": 9
        }
      ],
      "source": [
        "columns"
      ]
    },
    {
      "cell_type": "code",
      "execution_count": null,
      "id": "4d524c1d",
      "metadata": {
        "id": "4d524c1d"
      },
      "outputs": [],
      "source": [
        "demography = pd.read_csv(base_path + \"demographic.csv\")\n",
        "subjects = demography['subject']\n",
        "types = demography[' group']\n",
        "subject_type = {subjects[i]:types[i] for i in range(len(subjects))}"
      ]
    },
    {
      "cell_type": "code",
      "execution_count": null,
      "id": "da9cd5f0",
      "metadata": {
        "id": "da9cd5f0"
      },
      "outputs": [],
      "source": [
        "def averaged_N_rows(a, n):\n",
        "    assert a.shape[0] % n == 0\n",
        "    b = a.reshape(a.shape[0] // n, n, a.shape[1])\n",
        "    mean_vec = b.mean(axis=1)\n",
        "    return mean_vec"
      ]
    },
    {
      "cell_type": "code",
      "execution_count": null,
      "id": "d6572a0e",
      "metadata": {
        "id": "d6572a0e"
      },
      "outputs": [],
      "source": [
        "def read_subject(data, subject_idx):\n",
        "    trialCount = collections.Counter(data.trial)\n",
        "    all_data = []\n",
        "    labels = []\n",
        "    scaler = MinMaxScaler()\n",
        "    ohe = OneHotEncoder()\n",
        "    for t in trialCount:\n",
        "        if trialCount[t] != 9216:\n",
        "            continue\n",
        "        trial_data = data[data.trial == t]\n",
        "        trial_data = averaged_N_rows(trial_data.drop(columns=[\"subject\", \"trial\", \"sample\", \"condition\"]).values, 64)\n",
        "#         cond = ohe.fit_transform(trial_data[:, 0].reshape(-1, 1)).toarray()\n",
        "        trial_data = scaler.fit_transform(trial_data)\n",
        "        # extract subject and condition, average on the rest\n",
        "#         all_data.append(np.concatenate([cond, trial_data], axis=1))\n",
        "        all_data.append(trial_data)\n",
        "        labels.append(subject_type[subject_idx])\n",
        "    return np.array(all_data), np.array(labels)"
      ]
    },
    {
      "cell_type": "code",
      "execution_count": null,
      "id": "4f9ec0b7",
      "metadata": {
        "id": "4f9ec0b7"
      },
      "outputs": [],
      "source": [
        "def read_all_subjects():\n",
        "    all_labels = []\n",
        "    all_subjects_data = []\n",
        "    subjects = [path for path in os.listdir(\"../eeg_data/\") if path.endswith(\".csv\")]\n",
        "    for subject in tqdm(subjects):\n",
        "        subject_idx = int(subject.split(\".\")[0])\n",
        "        data = pd.read_csv(os.path.join(\"../eeg_data/\", subject, subject), header=None, names=columns)\n",
        "        data, labels = read_subject(data, subject_idx)\n",
        "        all_subjects_data.append(data)\n",
        "        all_labels.append(labels)\n",
        "    return np.concatenate(all_subjects_data, axis=0), np.concatenate(all_labels)"
      ]
    },
    {
      "cell_type": "markdown",
      "id": "c9e2fde2",
      "metadata": {
        "id": "c9e2fde2"
      },
      "source": [
        "### Run if data has not been processed yet"
      ]
    },
    {
      "cell_type": "code",
      "execution_count": null,
      "id": "a80c1081",
      "metadata": {
        "id": "a80c1081",
        "outputId": "8edd2128-6cfb-42fa-8ebe-65e22129dc45",
        "colab": {
          "base_uri": "https://localhost:8080/",
          "height": 293
        }
      },
      "outputs": [
        {
          "output_type": "error",
          "ename": "FileNotFoundError",
          "evalue": "ignored",
          "traceback": [
            "\u001b[0;31m---------------------------------------------------------------------------\u001b[0m",
            "\u001b[0;31mFileNotFoundError\u001b[0m                         Traceback (most recent call last)",
            "\u001b[0;32m<ipython-input-14-daf2583854f4>\u001b[0m in \u001b[0;36m<cell line: 1>\u001b[0;34m()\u001b[0m\n\u001b[0;32m----> 1\u001b[0;31m \u001b[0mall_subjects\u001b[0m\u001b[0;34m,\u001b[0m \u001b[0mall_labels\u001b[0m \u001b[0;34m=\u001b[0m \u001b[0mread_all_subjects\u001b[0m\u001b[0;34m(\u001b[0m\u001b[0;34m)\u001b[0m\u001b[0;34m\u001b[0m\u001b[0;34m\u001b[0m\u001b[0m\n\u001b[0m",
            "\u001b[0;32m<ipython-input-13-25c345e8811e>\u001b[0m in \u001b[0;36mread_all_subjects\u001b[0;34m()\u001b[0m\n\u001b[1;32m      2\u001b[0m     \u001b[0mall_labels\u001b[0m \u001b[0;34m=\u001b[0m \u001b[0;34m[\u001b[0m\u001b[0;34m]\u001b[0m\u001b[0;34m\u001b[0m\u001b[0;34m\u001b[0m\u001b[0m\n\u001b[1;32m      3\u001b[0m     \u001b[0mall_subjects_data\u001b[0m \u001b[0;34m=\u001b[0m \u001b[0;34m[\u001b[0m\u001b[0;34m]\u001b[0m\u001b[0;34m\u001b[0m\u001b[0;34m\u001b[0m\u001b[0m\n\u001b[0;32m----> 4\u001b[0;31m     \u001b[0msubjects\u001b[0m \u001b[0;34m=\u001b[0m \u001b[0;34m[\u001b[0m\u001b[0mpath\u001b[0m \u001b[0;32mfor\u001b[0m \u001b[0mpath\u001b[0m \u001b[0;32min\u001b[0m \u001b[0mos\u001b[0m\u001b[0;34m.\u001b[0m\u001b[0mlistdir\u001b[0m\u001b[0;34m(\u001b[0m\u001b[0;34m\"../eeg_data/\"\u001b[0m\u001b[0;34m)\u001b[0m \u001b[0;32mif\u001b[0m \u001b[0mpath\u001b[0m\u001b[0;34m.\u001b[0m\u001b[0mendswith\u001b[0m\u001b[0;34m(\u001b[0m\u001b[0;34m\".csv\"\u001b[0m\u001b[0;34m)\u001b[0m\u001b[0;34m]\u001b[0m\u001b[0;34m\u001b[0m\u001b[0;34m\u001b[0m\u001b[0m\n\u001b[0m\u001b[1;32m      5\u001b[0m     \u001b[0;32mfor\u001b[0m \u001b[0msubject\u001b[0m \u001b[0;32min\u001b[0m \u001b[0mtqdm\u001b[0m\u001b[0;34m(\u001b[0m\u001b[0msubjects\u001b[0m\u001b[0;34m)\u001b[0m\u001b[0;34m:\u001b[0m\u001b[0;34m\u001b[0m\u001b[0;34m\u001b[0m\u001b[0m\n\u001b[1;32m      6\u001b[0m         \u001b[0msubject_idx\u001b[0m \u001b[0;34m=\u001b[0m \u001b[0mint\u001b[0m\u001b[0;34m(\u001b[0m\u001b[0msubject\u001b[0m\u001b[0;34m.\u001b[0m\u001b[0msplit\u001b[0m\u001b[0;34m(\u001b[0m\u001b[0;34m\".\"\u001b[0m\u001b[0;34m)\u001b[0m\u001b[0;34m[\u001b[0m\u001b[0;36m0\u001b[0m\u001b[0;34m]\u001b[0m\u001b[0;34m)\u001b[0m\u001b[0;34m\u001b[0m\u001b[0;34m\u001b[0m\u001b[0m\n",
            "\u001b[0;31mFileNotFoundError\u001b[0m: [Errno 2] No such file or directory: '../eeg_data/'"
          ]
        }
      ],
      "source": [
        "all_subjects, all_labels = read_all_subjects()"
      ]
    },
    {
      "cell_type": "code",
      "execution_count": null,
      "id": "6f21bc83",
      "metadata": {
        "id": "6f21bc83",
        "outputId": "d2cebcea-a1c3-46e5-c6ed-89951a140a11"
      },
      "outputs": [
        {
          "data": {
            "text/plain": [
              "(7092, 144, 70)"
            ]
          },
          "execution_count": 123,
          "metadata": {},
          "output_type": "execute_result"
        }
      ],
      "source": [
        "all_subjects.shape"
      ]
    },
    {
      "cell_type": "code",
      "execution_count": null,
      "id": "87e71a78",
      "metadata": {
        "id": "87e71a78"
      },
      "outputs": [],
      "source": [
        "np.save(\"data_extracted\", all_subjects)\n",
        "np.save(\"labels\", all_labels)"
      ]
    },
    {
      "cell_type": "markdown",
      "id": "5b13cdc7",
      "metadata": {
        "id": "5b13cdc7"
      },
      "source": [
        "### Directly load in processed data"
      ]
    },
    {
      "cell_type": "code",
      "source": [
        "from sklearn.preprocessing import OneHotEncoder"
      ],
      "metadata": {
        "id": "UUWtmhpvOoox"
      },
      "id": "UUWtmhpvOoox",
      "execution_count": null,
      "outputs": []
    },
    {
      "cell_type": "code",
      "execution_count": null,
      "id": "e766b9f9",
      "metadata": {
        "id": "e766b9f9"
      },
      "outputs": [],
      "source": [
        "all_subjects = np.load(base_path + \"data_extracted.npy\")\n",
        "all_labels = np.load(base_path + \"labels.npy\")\n",
        "labelsOHE = OneHotEncoder().fit_transform(all_labels.reshape(-1, 1)).toarray()"
      ]
    },
    {
      "cell_type": "code",
      "source": [
        "# Flattening the data from (7092, 144, 70) to (7092, 144*70)\n",
        "flattened_subjects = all_subjects.reshape(all_subjects.shape[0], -1)"
      ],
      "metadata": {
        "id": "hRrS0YD7idrO"
      },
      "id": "hRrS0YD7idrO",
      "execution_count": null,
      "outputs": []
    },
    {
      "cell_type": "code",
      "source": [
        "# Splitting the dataset into training and testing sets\n",
        "X_train, X_test, y_train, y_test = train_test_split(flattened_subjects, all_labels, test_size=0.3, random_state=42)\n"
      ],
      "metadata": {
        "id": "8wJW9PWxlnAZ"
      },
      "id": "8wJW9PWxlnAZ",
      "execution_count": null,
      "outputs": []
    },
    {
      "cell_type": "markdown",
      "source": [
        "Traditional ML model building"
      ],
      "metadata": {
        "id": "TAuzBGlrjSyb"
      },
      "id": "TAuzBGlrjSyb"
    },
    {
      "cell_type": "markdown",
      "source": [
        "###SVM\n",
        "\n"
      ],
      "metadata": {
        "id": "4p82bRFHjXI7"
      },
      "id": "4p82bRFHjXI7"
    },
    {
      "cell_type": "code",
      "source": [
        "# Initialize the SVM classifier\n",
        "svm_model = SVC()\n",
        "\n",
        "# Fit the model\n",
        "svm_model.fit(flattened_subjects, all_labels)\n"
      ],
      "metadata": {
        "colab": {
          "base_uri": "https://localhost:8080/",
          "height": 74
        },
        "id": "awE7sm6CjRjq",
        "outputId": "c03b6ef3-3ce9-42b8-c585-c477d41f44c6"
      },
      "id": "awE7sm6CjRjq",
      "execution_count": null,
      "outputs": [
        {
          "output_type": "execute_result",
          "data": {
            "text/plain": [
              "SVC()"
            ],
            "text/html": [
              "<style>#sk-container-id-1 {color: black;background-color: white;}#sk-container-id-1 pre{padding: 0;}#sk-container-id-1 div.sk-toggleable {background-color: white;}#sk-container-id-1 label.sk-toggleable__label {cursor: pointer;display: block;width: 100%;margin-bottom: 0;padding: 0.3em;box-sizing: border-box;text-align: center;}#sk-container-id-1 label.sk-toggleable__label-arrow:before {content: \"▸\";float: left;margin-right: 0.25em;color: #696969;}#sk-container-id-1 label.sk-toggleable__label-arrow:hover:before {color: black;}#sk-container-id-1 div.sk-estimator:hover label.sk-toggleable__label-arrow:before {color: black;}#sk-container-id-1 div.sk-toggleable__content {max-height: 0;max-width: 0;overflow: hidden;text-align: left;background-color: #f0f8ff;}#sk-container-id-1 div.sk-toggleable__content pre {margin: 0.2em;color: black;border-radius: 0.25em;background-color: #f0f8ff;}#sk-container-id-1 input.sk-toggleable__control:checked~div.sk-toggleable__content {max-height: 200px;max-width: 100%;overflow: auto;}#sk-container-id-1 input.sk-toggleable__control:checked~label.sk-toggleable__label-arrow:before {content: \"▾\";}#sk-container-id-1 div.sk-estimator input.sk-toggleable__control:checked~label.sk-toggleable__label {background-color: #d4ebff;}#sk-container-id-1 div.sk-label input.sk-toggleable__control:checked~label.sk-toggleable__label {background-color: #d4ebff;}#sk-container-id-1 input.sk-hidden--visually {border: 0;clip: rect(1px 1px 1px 1px);clip: rect(1px, 1px, 1px, 1px);height: 1px;margin: -1px;overflow: hidden;padding: 0;position: absolute;width: 1px;}#sk-container-id-1 div.sk-estimator {font-family: monospace;background-color: #f0f8ff;border: 1px dotted black;border-radius: 0.25em;box-sizing: border-box;margin-bottom: 0.5em;}#sk-container-id-1 div.sk-estimator:hover {background-color: #d4ebff;}#sk-container-id-1 div.sk-parallel-item::after {content: \"\";width: 100%;border-bottom: 1px solid gray;flex-grow: 1;}#sk-container-id-1 div.sk-label:hover label.sk-toggleable__label {background-color: #d4ebff;}#sk-container-id-1 div.sk-serial::before {content: \"\";position: absolute;border-left: 1px solid gray;box-sizing: border-box;top: 0;bottom: 0;left: 50%;z-index: 0;}#sk-container-id-1 div.sk-serial {display: flex;flex-direction: column;align-items: center;background-color: white;padding-right: 0.2em;padding-left: 0.2em;position: relative;}#sk-container-id-1 div.sk-item {position: relative;z-index: 1;}#sk-container-id-1 div.sk-parallel {display: flex;align-items: stretch;justify-content: center;background-color: white;position: relative;}#sk-container-id-1 div.sk-item::before, #sk-container-id-1 div.sk-parallel-item::before {content: \"\";position: absolute;border-left: 1px solid gray;box-sizing: border-box;top: 0;bottom: 0;left: 50%;z-index: -1;}#sk-container-id-1 div.sk-parallel-item {display: flex;flex-direction: column;z-index: 1;position: relative;background-color: white;}#sk-container-id-1 div.sk-parallel-item:first-child::after {align-self: flex-end;width: 50%;}#sk-container-id-1 div.sk-parallel-item:last-child::after {align-self: flex-start;width: 50%;}#sk-container-id-1 div.sk-parallel-item:only-child::after {width: 0;}#sk-container-id-1 div.sk-dashed-wrapped {border: 1px dashed gray;margin: 0 0.4em 0.5em 0.4em;box-sizing: border-box;padding-bottom: 0.4em;background-color: white;}#sk-container-id-1 div.sk-label label {font-family: monospace;font-weight: bold;display: inline-block;line-height: 1.2em;}#sk-container-id-1 div.sk-label-container {text-align: center;}#sk-container-id-1 div.sk-container {/* jupyter's `normalize.less` sets `[hidden] { display: none; }` but bootstrap.min.css set `[hidden] { display: none !important; }` so we also need the `!important` here to be able to override the default hidden behavior on the sphinx rendered scikit-learn.org. See: https://github.com/scikit-learn/scikit-learn/issues/21755 */display: inline-block !important;position: relative;}#sk-container-id-1 div.sk-text-repr-fallback {display: none;}</style><div id=\"sk-container-id-1\" class=\"sk-top-container\"><div class=\"sk-text-repr-fallback\"><pre>SVC()</pre><b>In a Jupyter environment, please rerun this cell to show the HTML representation or trust the notebook. <br />On GitHub, the HTML representation is unable to render, please try loading this page with nbviewer.org.</b></div><div class=\"sk-container\" hidden><div class=\"sk-item\"><div class=\"sk-estimator sk-toggleable\"><input class=\"sk-toggleable__control sk-hidden--visually\" id=\"sk-estimator-id-1\" type=\"checkbox\" checked><label for=\"sk-estimator-id-1\" class=\"sk-toggleable__label sk-toggleable__label-arrow\">SVC</label><div class=\"sk-toggleable__content\"><pre>SVC()</pre></div></div></div></div></div>"
            ]
          },
          "metadata": {},
          "execution_count": 20
        }
      ]
    },
    {
      "cell_type": "code",
      "source": [
        "# Training the SVM model\n",
        "svm_model.fit(X_train, y_train)\n"
      ],
      "metadata": {
        "colab": {
          "base_uri": "https://localhost:8080/",
          "height": 74
        },
        "id": "qU1BasRdmQ8S",
        "outputId": "74ca42ab-1af0-4174-c6d7-497cee86aa78"
      },
      "id": "qU1BasRdmQ8S",
      "execution_count": null,
      "outputs": [
        {
          "output_type": "execute_result",
          "data": {
            "text/plain": [
              "SVC()"
            ],
            "text/html": [
              "<style>#sk-container-id-2 {color: black;background-color: white;}#sk-container-id-2 pre{padding: 0;}#sk-container-id-2 div.sk-toggleable {background-color: white;}#sk-container-id-2 label.sk-toggleable__label {cursor: pointer;display: block;width: 100%;margin-bottom: 0;padding: 0.3em;box-sizing: border-box;text-align: center;}#sk-container-id-2 label.sk-toggleable__label-arrow:before {content: \"▸\";float: left;margin-right: 0.25em;color: #696969;}#sk-container-id-2 label.sk-toggleable__label-arrow:hover:before {color: black;}#sk-container-id-2 div.sk-estimator:hover label.sk-toggleable__label-arrow:before {color: black;}#sk-container-id-2 div.sk-toggleable__content {max-height: 0;max-width: 0;overflow: hidden;text-align: left;background-color: #f0f8ff;}#sk-container-id-2 div.sk-toggleable__content pre {margin: 0.2em;color: black;border-radius: 0.25em;background-color: #f0f8ff;}#sk-container-id-2 input.sk-toggleable__control:checked~div.sk-toggleable__content {max-height: 200px;max-width: 100%;overflow: auto;}#sk-container-id-2 input.sk-toggleable__control:checked~label.sk-toggleable__label-arrow:before {content: \"▾\";}#sk-container-id-2 div.sk-estimator input.sk-toggleable__control:checked~label.sk-toggleable__label {background-color: #d4ebff;}#sk-container-id-2 div.sk-label input.sk-toggleable__control:checked~label.sk-toggleable__label {background-color: #d4ebff;}#sk-container-id-2 input.sk-hidden--visually {border: 0;clip: rect(1px 1px 1px 1px);clip: rect(1px, 1px, 1px, 1px);height: 1px;margin: -1px;overflow: hidden;padding: 0;position: absolute;width: 1px;}#sk-container-id-2 div.sk-estimator {font-family: monospace;background-color: #f0f8ff;border: 1px dotted black;border-radius: 0.25em;box-sizing: border-box;margin-bottom: 0.5em;}#sk-container-id-2 div.sk-estimator:hover {background-color: #d4ebff;}#sk-container-id-2 div.sk-parallel-item::after {content: \"\";width: 100%;border-bottom: 1px solid gray;flex-grow: 1;}#sk-container-id-2 div.sk-label:hover label.sk-toggleable__label {background-color: #d4ebff;}#sk-container-id-2 div.sk-serial::before {content: \"\";position: absolute;border-left: 1px solid gray;box-sizing: border-box;top: 0;bottom: 0;left: 50%;z-index: 0;}#sk-container-id-2 div.sk-serial {display: flex;flex-direction: column;align-items: center;background-color: white;padding-right: 0.2em;padding-left: 0.2em;position: relative;}#sk-container-id-2 div.sk-item {position: relative;z-index: 1;}#sk-container-id-2 div.sk-parallel {display: flex;align-items: stretch;justify-content: center;background-color: white;position: relative;}#sk-container-id-2 div.sk-item::before, #sk-container-id-2 div.sk-parallel-item::before {content: \"\";position: absolute;border-left: 1px solid gray;box-sizing: border-box;top: 0;bottom: 0;left: 50%;z-index: -1;}#sk-container-id-2 div.sk-parallel-item {display: flex;flex-direction: column;z-index: 1;position: relative;background-color: white;}#sk-container-id-2 div.sk-parallel-item:first-child::after {align-self: flex-end;width: 50%;}#sk-container-id-2 div.sk-parallel-item:last-child::after {align-self: flex-start;width: 50%;}#sk-container-id-2 div.sk-parallel-item:only-child::after {width: 0;}#sk-container-id-2 div.sk-dashed-wrapped {border: 1px dashed gray;margin: 0 0.4em 0.5em 0.4em;box-sizing: border-box;padding-bottom: 0.4em;background-color: white;}#sk-container-id-2 div.sk-label label {font-family: monospace;font-weight: bold;display: inline-block;line-height: 1.2em;}#sk-container-id-2 div.sk-label-container {text-align: center;}#sk-container-id-2 div.sk-container {/* jupyter's `normalize.less` sets `[hidden] { display: none; }` but bootstrap.min.css set `[hidden] { display: none !important; }` so we also need the `!important` here to be able to override the default hidden behavior on the sphinx rendered scikit-learn.org. See: https://github.com/scikit-learn/scikit-learn/issues/21755 */display: inline-block !important;position: relative;}#sk-container-id-2 div.sk-text-repr-fallback {display: none;}</style><div id=\"sk-container-id-2\" class=\"sk-top-container\"><div class=\"sk-text-repr-fallback\"><pre>SVC()</pre><b>In a Jupyter environment, please rerun this cell to show the HTML representation or trust the notebook. <br />On GitHub, the HTML representation is unable to render, please try loading this page with nbviewer.org.</b></div><div class=\"sk-container\" hidden><div class=\"sk-item\"><div class=\"sk-estimator sk-toggleable\"><input class=\"sk-toggleable__control sk-hidden--visually\" id=\"sk-estimator-id-2\" type=\"checkbox\" checked><label for=\"sk-estimator-id-2\" class=\"sk-toggleable__label sk-toggleable__label-arrow\">SVC</label><div class=\"sk-toggleable__content\"><pre>SVC()</pre></div></div></div></div></div>"
            ]
          },
          "metadata": {},
          "execution_count": 21
        }
      ]
    },
    {
      "cell_type": "code",
      "source": [
        "# Predicting on the test set\n",
        "y_pred = svm_model.predict(X_test)\n",
        "\n",
        "# Evaluating the model\n",
        "print(\"Accuracy:\", accuracy_score(y_test, y_pred))\n",
        "print(classification_report(y_test, y_pred))\n"
      ],
      "metadata": {
        "colab": {
          "base_uri": "https://localhost:8080/"
        },
        "id": "eSYtWaY_mTyr",
        "outputId": "5aa41a44-8d5d-4fa8-eb5f-2ab25547b9ba"
      },
      "id": "eSYtWaY_mTyr",
      "execution_count": null,
      "outputs": [
        {
          "output_type": "stream",
          "name": "stdout",
          "text": [
            "Accuracy: 0.6625939849624061\n",
            "              precision    recall  f1-score   support\n",
            "\n",
            "           0       0.68      0.30      0.41       849\n",
            "           1       0.66      0.91      0.76      1279\n",
            "\n",
            "    accuracy                           0.66      2128\n",
            "   macro avg       0.67      0.60      0.59      2128\n",
            "weighted avg       0.67      0.66      0.62      2128\n",
            "\n"
          ]
        }
      ]
    },
    {
      "cell_type": "markdown",
      "source": [
        "###MLP"
      ],
      "metadata": {
        "id": "6OlrCkJaj5Rs"
      },
      "id": "6OlrCkJaj5Rs"
    },
    {
      "cell_type": "code",
      "source": [
        "# Initialize the MLP classifier\n",
        "mlp_model = MLPClassifier(hidden_layer_sizes=(512, 256), activation='relu', solver='adam', max_iter=500)\n",
        "\n",
        "# Fit the model\n",
        "mlp_model.fit(flattened_subjects, all_labels)\n"
      ],
      "metadata": {
        "colab": {
          "base_uri": "https://localhost:8080/",
          "height": 74
        },
        "id": "X9qiFejNj95j",
        "outputId": "5aa98b62-9e9f-4487-a6ba-bc14d306a833"
      },
      "id": "X9qiFejNj95j",
      "execution_count": null,
      "outputs": [
        {
          "output_type": "execute_result",
          "data": {
            "text/plain": [
              "MLPClassifier(hidden_layer_sizes=(512, 256), max_iter=500)"
            ],
            "text/html": [
              "<style>#sk-container-id-3 {color: black;background-color: white;}#sk-container-id-3 pre{padding: 0;}#sk-container-id-3 div.sk-toggleable {background-color: white;}#sk-container-id-3 label.sk-toggleable__label {cursor: pointer;display: block;width: 100%;margin-bottom: 0;padding: 0.3em;box-sizing: border-box;text-align: center;}#sk-container-id-3 label.sk-toggleable__label-arrow:before {content: \"▸\";float: left;margin-right: 0.25em;color: #696969;}#sk-container-id-3 label.sk-toggleable__label-arrow:hover:before {color: black;}#sk-container-id-3 div.sk-estimator:hover label.sk-toggleable__label-arrow:before {color: black;}#sk-container-id-3 div.sk-toggleable__content {max-height: 0;max-width: 0;overflow: hidden;text-align: left;background-color: #f0f8ff;}#sk-container-id-3 div.sk-toggleable__content pre {margin: 0.2em;color: black;border-radius: 0.25em;background-color: #f0f8ff;}#sk-container-id-3 input.sk-toggleable__control:checked~div.sk-toggleable__content {max-height: 200px;max-width: 100%;overflow: auto;}#sk-container-id-3 input.sk-toggleable__control:checked~label.sk-toggleable__label-arrow:before {content: \"▾\";}#sk-container-id-3 div.sk-estimator input.sk-toggleable__control:checked~label.sk-toggleable__label {background-color: #d4ebff;}#sk-container-id-3 div.sk-label input.sk-toggleable__control:checked~label.sk-toggleable__label {background-color: #d4ebff;}#sk-container-id-3 input.sk-hidden--visually {border: 0;clip: rect(1px 1px 1px 1px);clip: rect(1px, 1px, 1px, 1px);height: 1px;margin: -1px;overflow: hidden;padding: 0;position: absolute;width: 1px;}#sk-container-id-3 div.sk-estimator {font-family: monospace;background-color: #f0f8ff;border: 1px dotted black;border-radius: 0.25em;box-sizing: border-box;margin-bottom: 0.5em;}#sk-container-id-3 div.sk-estimator:hover {background-color: #d4ebff;}#sk-container-id-3 div.sk-parallel-item::after {content: \"\";width: 100%;border-bottom: 1px solid gray;flex-grow: 1;}#sk-container-id-3 div.sk-label:hover label.sk-toggleable__label {background-color: #d4ebff;}#sk-container-id-3 div.sk-serial::before {content: \"\";position: absolute;border-left: 1px solid gray;box-sizing: border-box;top: 0;bottom: 0;left: 50%;z-index: 0;}#sk-container-id-3 div.sk-serial {display: flex;flex-direction: column;align-items: center;background-color: white;padding-right: 0.2em;padding-left: 0.2em;position: relative;}#sk-container-id-3 div.sk-item {position: relative;z-index: 1;}#sk-container-id-3 div.sk-parallel {display: flex;align-items: stretch;justify-content: center;background-color: white;position: relative;}#sk-container-id-3 div.sk-item::before, #sk-container-id-3 div.sk-parallel-item::before {content: \"\";position: absolute;border-left: 1px solid gray;box-sizing: border-box;top: 0;bottom: 0;left: 50%;z-index: -1;}#sk-container-id-3 div.sk-parallel-item {display: flex;flex-direction: column;z-index: 1;position: relative;background-color: white;}#sk-container-id-3 div.sk-parallel-item:first-child::after {align-self: flex-end;width: 50%;}#sk-container-id-3 div.sk-parallel-item:last-child::after {align-self: flex-start;width: 50%;}#sk-container-id-3 div.sk-parallel-item:only-child::after {width: 0;}#sk-container-id-3 div.sk-dashed-wrapped {border: 1px dashed gray;margin: 0 0.4em 0.5em 0.4em;box-sizing: border-box;padding-bottom: 0.4em;background-color: white;}#sk-container-id-3 div.sk-label label {font-family: monospace;font-weight: bold;display: inline-block;line-height: 1.2em;}#sk-container-id-3 div.sk-label-container {text-align: center;}#sk-container-id-3 div.sk-container {/* jupyter's `normalize.less` sets `[hidden] { display: none; }` but bootstrap.min.css set `[hidden] { display: none !important; }` so we also need the `!important` here to be able to override the default hidden behavior on the sphinx rendered scikit-learn.org. See: https://github.com/scikit-learn/scikit-learn/issues/21755 */display: inline-block !important;position: relative;}#sk-container-id-3 div.sk-text-repr-fallback {display: none;}</style><div id=\"sk-container-id-3\" class=\"sk-top-container\"><div class=\"sk-text-repr-fallback\"><pre>MLPClassifier(hidden_layer_sizes=(512, 256), max_iter=500)</pre><b>In a Jupyter environment, please rerun this cell to show the HTML representation or trust the notebook. <br />On GitHub, the HTML representation is unable to render, please try loading this page with nbviewer.org.</b></div><div class=\"sk-container\" hidden><div class=\"sk-item\"><div class=\"sk-estimator sk-toggleable\"><input class=\"sk-toggleable__control sk-hidden--visually\" id=\"sk-estimator-id-3\" type=\"checkbox\" checked><label for=\"sk-estimator-id-3\" class=\"sk-toggleable__label sk-toggleable__label-arrow\">MLPClassifier</label><div class=\"sk-toggleable__content\"><pre>MLPClassifier(hidden_layer_sizes=(512, 256), max_iter=500)</pre></div></div></div></div></div>"
            ]
          },
          "metadata": {},
          "execution_count": 23
        }
      ]
    },
    {
      "cell_type": "code",
      "source": [
        "# Training the MLP model\n",
        "mlp_model.fit(X_train, y_train)\n"
      ],
      "metadata": {
        "id": "riXgMkYDlxx2"
      },
      "id": "riXgMkYDlxx2",
      "execution_count": null,
      "outputs": []
    },
    {
      "cell_type": "code",
      "source": [
        "# Predicting on the test set\n",
        "y_pred = mlp_model.predict(X_test)\n",
        "\n",
        "# Evaluating the model\n",
        "print(\"Accuracy:\", accuracy_score(y_test, y_pred))\n",
        "print(classification_report(y_test, y_pred))\n"
      ],
      "metadata": {
        "id": "N6yj8qj4l_GK"
      },
      "id": "N6yj8qj4l_GK",
      "execution_count": null,
      "outputs": []
    },
    {
      "cell_type": "markdown",
      "id": "46cd3fc6",
      "metadata": {
        "id": "46cd3fc6"
      },
      "source": [
        "### Model Building"
      ]
    },
    {
      "cell_type": "code",
      "execution_count": null,
      "id": "2e41d547",
      "metadata": {
        "colab": {
          "base_uri": "https://localhost:8080/"
        },
        "id": "2e41d547",
        "outputId": "2300d055-93a4-4ebf-9540-57dbf46af767"
      },
      "outputs": [
        {
          "output_type": "stream",
          "name": "stdout",
          "text": [
            "CNNModel(\n",
            "  (conv1): Conv2d(1, 16, kernel_size=(3, 3), stride=(2, 2))\n",
            "  (act1): LeakyReLU(negative_slope=0.01)\n",
            "  (drop1): Dropout(p=0.3, inplace=False)\n",
            "  (conv2): Conv2d(16, 32, kernel_size=(3, 3), stride=(2, 2))\n",
            "  (act2): LeakyReLU(negative_slope=0.01)\n",
            "  (conv3): Conv2d(32, 32, kernel_size=(3, 3), stride=(2, 2))\n",
            "  (act3): LeakyReLU(negative_slope=0.01)\n",
            "  (flat): Flatten(start_dim=1, end_dim=-1)\n",
            "  (fc5): Linear(in_features=3808, out_features=512, bias=True)\n",
            "  (act5): ReLU()\n",
            "  (drop5): Dropout(p=0.5, inplace=False)\n",
            "  (fc6): Linear(in_features=512, out_features=2, bias=True)\n",
            "  (sigmoid): Sigmoid()\n",
            ")\n"
          ]
        }
      ],
      "source": [
        "class CNNModel(nn.Module):\n",
        "    def __init__(self):\n",
        "        super().__init__()\n",
        "        # input: 144x70x1, output: 71x34x16\n",
        "        self.conv1 = nn.Conv2d(1, 16, kernel_size=(3,3), stride=2)\n",
        "        self.act1 = nn.LeakyReLU()\n",
        "        self.drop1 = nn.Dropout(0.3)\n",
        "\n",
        "        # input: 71x34x16, output: 35x16x32\n",
        "        self.conv2 = nn.Conv2d(16, 32, kernel_size=(3,3), stride=2)\n",
        "        self.act2 = nn.LeakyReLU()\n",
        "\n",
        "        # input: 35x16x32, output:17x7x32\n",
        "        self.conv3 = nn.Conv2d(32, 32, kernel_size=(3,3), stride=2)\n",
        "        self.act3 = nn.LeakyReLU()\n",
        "\n",
        "        self.flat = nn.Flatten()\n",
        "\n",
        "        self.fc5 = nn.Linear(3808, 512)\n",
        "        self.act5 = nn.ReLU()\n",
        "        self.drop5 = nn.Dropout(0.5)\n",
        "\n",
        "        self.fc6 = nn.Linear(512, 2)\n",
        "        self.sigmoid = nn.Sigmoid()\n",
        "\n",
        "    def forward(self, x):\n",
        "        x = self.act1(self.conv1(x))\n",
        "        x = self.act2(self.conv2(x))\n",
        "        x = self.act3(self.conv3(x))\n",
        "        # x = self.act4(self.conv4(x))\n",
        "        x = self.flat(x)\n",
        "        x = self.act5(self.fc5(x))\n",
        "        x = self.drop5(x)\n",
        "        # input 512, output 10\n",
        "        x = self.sigmoid(self.fc6(x))\n",
        "        return x\n",
        "\n",
        "\n",
        "model = CNNModel().to(device)\n",
        "# Define the loss function and optimizer\n",
        "criterion = nn.BCELoss()\n",
        "\n",
        "adam_optimizer = optim.SGD(model.parameters(), lr=0.05)\n",
        "\n",
        "# Print the model architecture\n",
        "print(model)"
      ]
    },
    {
      "cell_type": "code",
      "source": [
        "subjects = torch.Tensor(all_subjects)[:, None, :, :]\n",
        "labels = torch.Tensor(labelsOHE)"
      ],
      "metadata": {
        "id": "CfePy-c9DQhr"
      },
      "id": "CfePy-c9DQhr",
      "execution_count": null,
      "outputs": []
    },
    {
      "cell_type": "code",
      "source": [
        "from sklearn.model_selection import train_test_split\n",
        "from torch.utils.data import TensorDataset, DataLoader"
      ],
      "metadata": {
        "id": "b-bEiSL_DZMX"
      },
      "id": "b-bEiSL_DZMX",
      "execution_count": null,
      "outputs": []
    },
    {
      "cell_type": "code",
      "source": [
        "X_train, X_test, y_train, y_test = train_test_split(subjects, labels, test_size=0.25, random_state=42)"
      ],
      "metadata": {
        "id": "Umatill0EtBY"
      },
      "id": "Umatill0EtBY",
      "execution_count": null,
      "outputs": []
    },
    {
      "cell_type": "code",
      "source": [
        "train_dataset = TensorDataset(X_train, y_train) # create your datset\n",
        "train_dataloader = DataLoader(train_dataset, batch_size=32) # create your dataloader\n",
        "\n",
        "test_dataset = TensorDataset(X_test, y_test) # create your datset\n",
        "test_dataloader = DataLoader(test_dataset, batch_size=32) # create your dataloader"
      ],
      "metadata": {
        "id": "lB4NMNXJE1an"
      },
      "id": "lB4NMNXJE1an",
      "execution_count": null,
      "outputs": []
    },
    {
      "cell_type": "code",
      "source": [
        "# Define training parameters\n",
        "epochs = 30\n",
        "val_accuracies = []\n",
        "# Training loop\n",
        "\n",
        "model = model.cuda()\n",
        "for epoch in range(epochs):\n",
        "    total_loss = 0\n",
        "\n",
        "    for (batch_X, batch_y) in train_dataloader:\n",
        "        # Zero the gradients\n",
        "        adam_optimizer.zero_grad()\n",
        "        # Forward pass\n",
        "        outputs = model(batch_X.cuda())\n",
        "        # Compute the loss\n",
        "        loss = criterion(outputs, batch_y.cuda())\n",
        "        # Backward pass\n",
        "        loss.backward()\n",
        "        # Update weights\n",
        "        adam_optimizer.step()\n",
        "        total_loss += loss.item()\n",
        "    # Print average loss for the epoch\n",
        "    print(f\"Epoch {epoch + 1}, Loss: {total_loss / len(train_dataloader):.4f}\")\n",
        "    # Validation\n",
        "    model.eval()\n",
        "    with torch.no_grad():\n",
        "      val_acc = []\n",
        "      for (batch_X, batch_y) in test_dataloader:\n",
        "        val_outputs = model(batch_X.cuda())\n",
        "        val_loss = criterion(val_outputs, batch_y.cuda())\n",
        "\n",
        "        # If y_val is one-hot encoded\n",
        "        _, val_preds = torch.max(val_outputs, 1)\n",
        "        _, yv = torch.max(batch_y, 1)\n",
        "        # print(val_preds, yv)\n",
        "\n",
        "        val_acc.append((val_preds == yv.cuda()).float().mean().item())\n",
        "      val_accuracies.append(np.mean(val_acc))\n",
        "\n",
        "    print(f\"Validation Loss: {val_loss.item():.4f}, Validation Accuracy: {np.mean(val_acc):.4f}\")"
      ],
      "metadata": {
        "colab": {
          "base_uri": "https://localhost:8080/"
        },
        "id": "FzA7kEBEFbaD",
        "outputId": "40a22deb-5012-47c9-d365-ee849f6bb3ff"
      },
      "id": "FzA7kEBEFbaD",
      "execution_count": null,
      "outputs": [
        {
          "output_type": "stream",
          "name": "stdout",
          "text": [
            "Epoch 1, Loss: 0.6773\n",
            "Validation Loss: 0.6134, Validation Accuracy: 0.6008\n",
            "Epoch 2, Loss: 0.6744\n",
            "Validation Loss: 0.6124, Validation Accuracy: 0.6008\n",
            "Epoch 3, Loss: 0.6742\n",
            "Validation Loss: 0.6118, Validation Accuracy: 0.6008\n",
            "Epoch 4, Loss: 0.6741\n",
            "Validation Loss: 0.6113, Validation Accuracy: 0.6008\n",
            "Epoch 5, Loss: 0.6740\n",
            "Validation Loss: 0.6107, Validation Accuracy: 0.6008\n",
            "Epoch 6, Loss: 0.6738\n",
            "Validation Loss: 0.6100, Validation Accuracy: 0.6008\n",
            "Epoch 7, Loss: 0.6736\n",
            "Validation Loss: 0.6092, Validation Accuracy: 0.6008\n",
            "Epoch 8, Loss: 0.6733\n",
            "Validation Loss: 0.6081, Validation Accuracy: 0.6008\n",
            "Epoch 9, Loss: 0.6730\n",
            "Validation Loss: 0.6066, Validation Accuracy: 0.6008\n",
            "Epoch 10, Loss: 0.6724\n",
            "Validation Loss: 0.6044, Validation Accuracy: 0.6008\n",
            "Epoch 11, Loss: 0.6718\n",
            "Validation Loss: 0.6014, Validation Accuracy: 0.6008\n",
            "Epoch 12, Loss: 0.6709\n",
            "Validation Loss: 0.5976, Validation Accuracy: 0.6008\n",
            "Epoch 13, Loss: 0.6700\n",
            "Validation Loss: 0.5929, Validation Accuracy: 0.6008\n",
            "Epoch 14, Loss: 0.6689\n",
            "Validation Loss: 0.5880, Validation Accuracy: 0.6013\n",
            "Epoch 15, Loss: 0.6677\n",
            "Validation Loss: 0.5827, Validation Accuracy: 0.6069\n",
            "Epoch 16, Loss: 0.6664\n",
            "Validation Loss: 0.5786, Validation Accuracy: 0.6097\n",
            "Epoch 17, Loss: 0.6651\n",
            "Validation Loss: 0.5743, Validation Accuracy: 0.6136\n",
            "Epoch 18, Loss: 0.6637\n",
            "Validation Loss: 0.5710, Validation Accuracy: 0.6186\n",
            "Epoch 19, Loss: 0.6622\n",
            "Validation Loss: 0.5683, Validation Accuracy: 0.6186\n",
            "Epoch 20, Loss: 0.6605\n",
            "Validation Loss: 0.5662, Validation Accuracy: 0.6214\n",
            "Epoch 21, Loss: 0.6587\n",
            "Validation Loss: 0.5633, Validation Accuracy: 0.6270\n",
            "Epoch 22, Loss: 0.6564\n",
            "Validation Loss: 0.5620, Validation Accuracy: 0.6265\n",
            "Epoch 23, Loss: 0.6537\n",
            "Validation Loss: 0.5617, Validation Accuracy: 0.6309\n",
            "Epoch 24, Loss: 0.6503\n",
            "Validation Loss: 0.5641, Validation Accuracy: 0.6304\n",
            "Epoch 25, Loss: 0.6461\n",
            "Validation Loss: 0.5685, Validation Accuracy: 0.6309\n",
            "Epoch 26, Loss: 0.6419\n",
            "Validation Loss: 0.5721, Validation Accuracy: 0.6359\n",
            "Epoch 27, Loss: 0.6371\n",
            "Validation Loss: 0.5757, Validation Accuracy: 0.6376\n",
            "Epoch 28, Loss: 0.6322\n",
            "Validation Loss: 0.5815, Validation Accuracy: 0.6359\n",
            "Epoch 29, Loss: 0.6265\n",
            "Validation Loss: 0.5857, Validation Accuracy: 0.6393\n",
            "Epoch 30, Loss: 0.6200\n",
            "Validation Loss: 0.5893, Validation Accuracy: 0.6387\n"
          ]
        }
      ]
    },
    {
      "cell_type": "code",
      "source": [
        "import tensorflow as tf"
      ],
      "metadata": {
        "id": "q_N8MMdvcjLf"
      },
      "id": "q_N8MMdvcjLf",
      "execution_count": null,
      "outputs": []
    },
    {
      "cell_type": "code",
      "source": [
        "resnet50 = tf.keras.applications.resnet50.ResNet50(\n",
        "  include_top=False,\n",
        "  weights=None,\n",
        "  input_tensor=None,\n",
        "  input_shape=(144, 70, 1),\n",
        "  pooling=\"avg\",\n",
        "  classes=2,\n",
        "  classifier_activation=\"sigmoid\"\n",
        ")"
      ],
      "metadata": {
        "id": "4PqxUJJeOHro"
      },
      "id": "4PqxUJJeOHro",
      "execution_count": null,
      "outputs": []
    },
    {
      "cell_type": "code",
      "source": [
        "resnet50.summary()"
      ],
      "metadata": {
        "id": "o1a1KEU_ct4J"
      },
      "id": "o1a1KEU_ct4J",
      "execution_count": null,
      "outputs": []
    },
    {
      "cell_type": "code",
      "source": [
        "model = tf.keras.models.Sequential([\n",
        "    resnet50,\n",
        "    tf.keras.layers.Flatten(),\n",
        "    tf.keras.layers.Dense(128, activation=\"relu\"),\n",
        "    tf.keras.layers.Dense(64, activation=\"relu\"),\n",
        "    tf.keras.layers.Dense(2, activation=\"sigmoid\")\n",
        "])\n",
        "optimizer = tf.keras.optimizers.legacy.SGD(learning_rate=0.05)\n",
        "model.compile(optimizer=optimizer, loss=tf.keras.losses.BinaryCrossentropy(), metrics=[\"accuracy\"])"
      ],
      "metadata": {
        "id": "BRL54Kadcvue"
      },
      "id": "BRL54Kadcvue",
      "execution_count": null,
      "outputs": []
    },
    {
      "cell_type": "code",
      "source": [
        "resnet50 = tf.keras.applications.resnet50.ResNet50(\n",
        "  include_top=False,\n",
        "  weights=None,\n",
        "  input_tensor=None,\n",
        "  input_shape=(144, 70, 1),\n",
        "  pooling=\"avg\",\n",
        "  classes=2,\n",
        "  classifier_activation=\"sigmoid\"\n",
        ")\n",
        "model = tf.keras.models.Sequential([\n",
        "    resnet50,\n",
        "    tf.keras.layers.Flatten(),\n",
        "    tf.keras.layers.Dense(128, activation=\"relu\"),\n",
        "    tf.keras.layers.Dense(64, activation=\"relu\"),\n",
        "    tf.keras.layers.Dense(2, activation=\"sigmoid\")\n",
        "])\n",
        "optimizer = tf.keras.optimizers.legacy.SGD(learning_rate=0.02)\n",
        "model.compile(optimizer=optimizer, loss=tf.keras.losses.BinaryCrossentropy(), metrics=[\"accuracy\"])\n",
        "\n",
        "model.fit(np.squeeze(X_train.numpy()), y_train.numpy(), epochs=20, batch_size=32, validation_split=0.2)"
      ],
      "metadata": {
        "colab": {
          "base_uri": "https://localhost:8080/"
        },
        "id": "O3aFXclnjeIw",
        "outputId": "65883a10-3974-49a5-d8b9-53571e90378b"
      },
      "id": "O3aFXclnjeIw",
      "execution_count": null,
      "outputs": [
        {
          "output_type": "stream",
          "name": "stdout",
          "text": [
            "Epoch 1/20\n",
            "133/133 [==============================] - 44s 329ms/step - loss: 0.6878 - accuracy: 0.5857 - val_loss: 0.6899 - val_accuracy: 0.5940\n",
            "Epoch 2/20\n",
            "133/133 [==============================] - 42s 316ms/step - loss: 0.6763 - accuracy: 0.5946 - val_loss: 0.6869 - val_accuracy: 0.5940\n",
            "Epoch 3/20\n",
            "133/133 [==============================] - 44s 328ms/step - loss: 0.6757 - accuracy: 0.5965 - val_loss: 0.6840 - val_accuracy: 0.5940\n",
            "Epoch 4/20\n",
            "133/133 [==============================] - 44s 335ms/step - loss: 0.6750 - accuracy: 0.5969 - val_loss: 0.6727 - val_accuracy: 0.5940\n",
            "Epoch 5/20\n",
            "133/133 [==============================] - 43s 322ms/step - loss: 0.6735 - accuracy: 0.5972 - val_loss: 0.6771 - val_accuracy: 0.5977\n",
            "Epoch 6/20\n",
            "133/133 [==============================] - 46s 343ms/step - loss: 0.6725 - accuracy: 0.5995 - val_loss: 0.6845 - val_accuracy: 0.5818\n",
            "Epoch 7/20\n",
            "133/133 [==============================] - 43s 322ms/step - loss: 0.6700 - accuracy: 0.5960 - val_loss: 0.6967 - val_accuracy: 0.5940\n",
            "Epoch 8/20\n",
            "133/133 [==============================] - 43s 325ms/step - loss: 0.6665 - accuracy: 0.6033 - val_loss: 0.6681 - val_accuracy: 0.5959\n",
            "Epoch 9/20\n",
            "133/133 [==============================] - 43s 321ms/step - loss: 0.6580 - accuracy: 0.6103 - val_loss: 0.9401 - val_accuracy: 0.5940\n",
            "Epoch 10/20\n",
            "133/133 [==============================] - 43s 323ms/step - loss: 0.6545 - accuracy: 0.6071 - val_loss: 0.7188 - val_accuracy: 0.5949\n",
            "Epoch 11/20\n",
            "133/133 [==============================] - 43s 326ms/step - loss: 0.6403 - accuracy: 0.6345 - val_loss: 0.6812 - val_accuracy: 0.5968\n",
            "Epoch 12/20\n",
            "133/133 [==============================] - 49s 366ms/step - loss: 0.6154 - accuracy: 0.6602 - val_loss: 0.6631 - val_accuracy: 0.6325\n",
            "Epoch 13/20\n",
            "133/133 [==============================] - 43s 323ms/step - loss: 0.5880 - accuracy: 0.6848 - val_loss: 0.6817 - val_accuracy: 0.6147\n",
            "Epoch 14/20\n",
            "133/133 [==============================] - 44s 333ms/step - loss: 0.5531 - accuracy: 0.7147 - val_loss: 0.6722 - val_accuracy: 0.6278\n",
            "Epoch 15/20\n",
            "133/133 [==============================] - 43s 321ms/step - loss: 0.5038 - accuracy: 0.7558 - val_loss: 0.6853 - val_accuracy: 0.5977\n",
            "Epoch 16/20\n",
            "133/133 [==============================] - 44s 335ms/step - loss: 0.4465 - accuracy: 0.7951 - val_loss: 1.6116 - val_accuracy: 0.6015\n",
            "Epoch 17/20\n",
            "133/133 [==============================] - 43s 324ms/step - loss: 0.3615 - accuracy: 0.8385 - val_loss: 0.8911 - val_accuracy: 0.6344\n",
            "Epoch 18/20\n",
            "133/133 [==============================] - 44s 333ms/step - loss: 0.3098 - accuracy: 0.8705 - val_loss: 0.9879 - val_accuracy: 0.6288\n",
            "Epoch 19/20\n",
            "133/133 [==============================] - 45s 341ms/step - loss: 0.2497 - accuracy: 0.8947 - val_loss: 0.9860 - val_accuracy: 0.6250\n",
            "Epoch 20/20\n",
            "133/133 [==============================] - 43s 321ms/step - loss: 0.2088 - accuracy: 0.9159 - val_loss: 1.0670 - val_accuracy: 0.6494\n"
          ]
        },
        {
          "output_type": "execute_result",
          "data": {
            "text/plain": [
              "<keras.src.callbacks.History at 0x7cc140659510>"
            ]
          },
          "metadata": {},
          "execution_count": 195
        }
      ]
    },
    {
      "cell_type": "code",
      "source": [],
      "metadata": {
        "id": "DP1Z0sHjkIBD"
      },
      "id": "DP1Z0sHjkIBD",
      "execution_count": null,
      "outputs": []
    }
  ],
  "metadata": {
    "kernelspec": {
      "display_name": "Python 3",
      "name": "python3"
    },
    "language_info": {
      "codemirror_mode": {
        "name": "ipython",
        "version": 3
      },
      "file_extension": ".py",
      "mimetype": "text/x-python",
      "name": "python",
      "nbconvert_exporter": "python",
      "pygments_lexer": "ipython3",
      "version": "3.9.12"
    },
    "colab": {
      "provenance": [],
      "gpuType": "T4",
      "collapsed_sections": [
        "c9e2fde2",
        "46cd3fc6"
      ]
    },
    "accelerator": "GPU"
  },
  "nbformat": 4,
  "nbformat_minor": 5
}