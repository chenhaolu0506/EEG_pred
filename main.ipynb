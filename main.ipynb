{
 "cells": [
  {
   "cell_type": "code",
   "execution_count": 1,
   "id": "05941854",
   "metadata": {},
   "outputs": [],
   "source": [
    "import torch"
   ]
  },
  {
   "cell_type": "code",
   "execution_count": 2,
   "id": "dd7f03a0",
   "metadata": {},
   "outputs": [],
   "source": [
    "import pandas as pd\n",
    "import numpy as np"
   ]
  },
  {
   "cell_type": "code",
   "execution_count": 3,
   "id": "6a81f72a",
   "metadata": {},
   "outputs": [],
   "source": [
    "columns = pd.read_csv(\"../eeg1/columnLabels.csv\").columns"
   ]
  },
  {
   "cell_type": "code",
   "execution_count": 10,
   "id": "7950c694",
   "metadata": {},
   "outputs": [
    {
     "data": {
      "text/plain": [
       "Index(['subject', 'trial', 'condition', 'sample', 'Fp1', 'AF7', 'AF3', 'F1',\n",
       "       'F3', 'F5', 'F7', 'FT7', 'FC5', 'FC3', 'FC1', 'C1', 'C3', 'C5', 'T7',\n",
       "       'TP7', 'CP5', 'CP3', 'CP1', 'P1', 'P3', 'P5', 'P7', 'P9', 'PO7', 'PO3',\n",
       "       'O1', 'Iz', 'Oz', 'POz', 'Pz', 'CPz', 'Fpz', 'Fp2', 'AF8', 'AF4', 'AFz',\n",
       "       'Fz', 'F2', 'F4', 'F6', 'F8', 'FT8', 'FC6', 'FC4', 'FC2', 'FCz', 'Cz',\n",
       "       'C2', 'C4', 'C6', 'T8', 'TP8', 'CP6', 'CP4', 'CP2', 'P2', 'P4', 'P6',\n",
       "       'P8', 'P10', 'PO8', 'PO4', 'O2', 'VEOa', 'VEOb', 'HEOL', 'HEOR', 'Nose',\n",
       "       'TP10'],\n",
       "      dtype='object')"
      ]
     },
     "execution_count": 10,
     "metadata": {},
     "output_type": "execute_result"
    }
   ],
   "source": [
    "columns"
   ]
  },
  {
   "cell_type": "code",
   "execution_count": 12,
   "id": "1d63ae5d",
   "metadata": {},
   "outputs": [],
   "source": [
    "data = pd.read_csv(\"../eeg1/1.csv/1.csv\", header=None, names=columns)"
   ]
  },
  {
   "cell_type": "code",
   "execution_count": 15,
   "id": "c16a55e8",
   "metadata": {},
   "outputs": [],
   "source": [
    "s1 = data[data['subject'] == 1]"
   ]
  },
  {
   "cell_type": "code",
   "execution_count": 23,
   "id": "53b4eeb0",
   "metadata": {},
   "outputs": [
    {
     "data": {
      "text/plain": [
       "70"
      ]
     },
     "execution_count": 23,
     "metadata": {},
     "output_type": "execute_result"
    }
   ],
   "source": [
    "len(columns[4:])"
   ]
  },
  {
   "cell_type": "code",
   "execution_count": 41,
   "id": "da9cd5f0",
   "metadata": {},
   "outputs": [],
   "source": [
    "def averaged_N_rows(a, n):\n",
    "    assert a.shape[0] % n == 0\n",
    "    b = a.reshape(a.shape[0] // n, n, a.shape[1])\n",
    "    mean_vec = b.mean(axis=1)\n",
    "    return mean_vec"
   ]
  },
  {
   "cell_type": "code",
   "execution_count": 31,
   "id": "984737d6",
   "metadata": {},
   "outputs": [],
   "source": [
    "current_sample_matrix = data[data.trial == 10][columns[4:]].values"
   ]
  },
  {
   "cell_type": "code",
   "execution_count": 34,
   "id": "2c84bfbe",
   "metadata": {},
   "outputs": [
    {
     "data": {
      "text/plain": [
       "9216"
      ]
     },
     "execution_count": 34,
     "metadata": {},
     "output_type": "execute_result"
    }
   ],
   "source": [
    "len(current_sample_matrix)"
   ]
  },
  {
   "cell_type": "code",
   "execution_count": 40,
   "id": "0159cfac",
   "metadata": {},
   "outputs": [
    {
     "data": {
      "text/plain": [
       "(576, 70)"
      ]
     },
     "execution_count": 40,
     "metadata": {},
     "output_type": "execute_result"
    }
   ],
   "source": [
    "averaged_by_N_rows(current_sample_matrix, 16).shape"
   ]
  },
  {
   "cell_type": "code",
   "execution_count": null,
   "id": "0d122f3b",
   "metadata": {},
   "outputs": [],
   "source": []
  }
 ],
 "metadata": {
  "kernelspec": {
   "display_name": "Python 3 (ipykernel)",
   "language": "python",
   "name": "python3"
  },
  "language_info": {
   "codemirror_mode": {
    "name": "ipython",
    "version": 3
   },
   "file_extension": ".py",
   "mimetype": "text/x-python",
   "name": "python",
   "nbconvert_exporter": "python",
   "pygments_lexer": "ipython3",
   "version": "3.9.12"
  }
 },
 "nbformat": 4,
 "nbformat_minor": 5
}
